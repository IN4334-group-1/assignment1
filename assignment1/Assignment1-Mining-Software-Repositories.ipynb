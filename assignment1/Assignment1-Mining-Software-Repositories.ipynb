{
 "cells": [
  {
   "cell_type": "markdown",
   "metadata": {},
   "source": [
    "# Examining the effects of ownership on software quality\n",
    "## The Case Of Lucene\n",
    "\n",
    "We want to replicate the [study](http://dl.acm.org/citation.cfm?doid=2025113.2025119 \"Examining the effects of ownership on software quality\") done by Bird et al. and published in FSE'11. The idea is to see the results of a similar investigation on an OSS system. We select [Lucene](https://lucene.apache.org/core/), a search engine written in Java."
   ]
  },
  {
   "cell_type": "markdown",
   "metadata": {},
   "source": [
    "## Data collection\n",
    "\n",
    "First we need to get the data to create our **table**, in other words we do what is called *data collection*.\n",
    "\n",
    "In our case, we are interested in checking the relation between some ownership related metrics and post-release bugs. We investigating this relation at *file level*, because we focus on Java and in this language the building blocks are the classes, which most of the time correspond 1-to-1 to files.\n",
    "\n",
    "This means that our table will have one row per each source code file and as many columns as the metrics we want to compute for that file, plus one column with the number of post release bugs."
   ]
  },
  {
   "cell_type": "markdown",
   "metadata": {},
   "source": [
    "### Collecting git data\n",
    "\n",
    "For computing most of the metrics we want to investigate (e.g., how many people changed a file in its entire history) we need to know the history of files. We can do so by analyzing the *versioning system*. In our case, Lucene has a Subversion repository, but a [git mirror](https://github.com/apache/lucene-solr.git) is also available. We use the git repository as it allows to have the entire history locally, thus making the computations faster."
   ]
  },
  {
   "cell_type": "markdown",
   "metadata": {},
   "source": [
    "We clone the repository. For this we use the python library 'sh'. For other calls, we make use of various libraries such as 'JSONDecoder', 'path', 'time' and 'csv'. "
   ]
  },
  {
   "cell_type": "code",
   "execution_count": 15,
   "metadata": {
    "collapsed": true
   },
   "outputs": [],
   "source": [
    "import sh\n",
    "from json import JSONDecoder\n",
    "from os import listdir, path\n",
    "from time import strptime, mktime\n",
    "import csv"
   ]
  },
  {
   "cell_type": "markdown",
   "metadata": {},
   "source": [
    "We start by cloning the repository"
   ]
  },
  {
   "cell_type": "code",
   "execution_count": 16,
   "metadata": {
    "collapsed": false
   },
   "outputs": [],
   "source": [
    "if not path.isdir(\"lucene-solr\"):\n",
    "\tsh.git.clone(\"https://github.com/apache/lucene-solr.git\")"
   ]
  },
  {
   "cell_type": "markdown",
   "metadata": {},
   "source": [
    "And we make sure that we point our 'git' command to the right directory. In order to get rid of an annoying problem when git responses span multiple \"pages\", we use the '--no-pager' parameter"
   ]
  },
  {
   "cell_type": "code",
   "execution_count": 17,
   "metadata": {
    "collapsed": true
   },
   "outputs": [],
   "source": [
    "git = sh.git.bake(\"--no-pager\", _cwd='lucene-solr')"
   ]
  },
  {
   "cell_type": "markdown",
   "metadata": {},
   "source": [
    "To perform the replication, we inspect the 'trunk' in the versioning system and focus on a 6-month period in which we look at the bugs occurring to the files existing at that moment. Since we have bug data (see discussion later) until half of July 2015, we consider a time window from Jan 01, 2015 to Jul 01, 2015. Therefore the next step is to go through all bug reports and check whether they are between these two dates."
   ]
  },
  {
   "cell_type": "markdown",
   "metadata": {},
   "source": [
    "For this to work properly, we defined the following two functions to check for the right bugstatus and the correct time period:"
   ]
  },
  {
   "cell_type": "code",
   "execution_count": 18,
   "metadata": {
    "collapsed": true
   },
   "outputs": [],
   "source": [
    "def isClosedResolved(issue):\n",
    "    return issue['fields']['status']['name'] == \"Closed\" and issue['fields']['resolution']['name'] == \"Fixed\"\n",
    "\n",
    "def isCorrectTimePeriod(issue):\n",
    "    t = mktime(strptime(issue['fields']['resolutiondate'], TIMEFORMAT))\n",
    "    return t >= START and t < END"
   ]
  },
  {
   "cell_type": "markdown",
   "metadata": {},
   "source": [
    "Which was then followed by the actual files being checked and saved in a list:"
   ]
  },
  {
   "cell_type": "code",
   "execution_count": null,
   "metadata": {
    "collapsed": false
   },
   "outputs": [],
   "source": [
    "# load all files\n",
    "decoder = JSONDecoder()\n",
    "PATH = \"issue_LUCENE\"\n",
    "TIMEFORMAT = \"%Y-%m-%dT%H:%M:%S.000+0000\"\n",
    "START = mktime(strptime(\"2015-01-01T00:00:00.000+0000\", TIMEFORMAT))\n",
    "END = mktime(strptime(\"2015-07-01T00:00:00.000+0000\", TIMEFORMAT))\n",
    "\n",
    "issues = []\n",
    "\n",
    "for f in listdir(PATH):\n",
    "    jsonF = open(PATH + \"/\" + f)\n",
    "    issue = decoder.decode(jsonF.read())\n",
    "    if isClosedResolved(issue) and isCorrectTimePeriod(issue):\n",
    "        issues.append(issue['key'])"
   ]
  }
 ],
 "metadata": {
  "kernelspec": {
   "display_name": "Python 3",
   "language": "python",
   "name": "python3"
  },
  "language_info": {
   "codemirror_mode": {
    "name": "ipython",
    "version": 3
   },
   "file_extension": ".py",
   "mimetype": "text/x-python",
   "name": "python",
   "nbconvert_exporter": "python",
   "pygments_lexer": "ipython3",
   "version": "3.5.0"
  }
 },
 "nbformat": 4,
 "nbformat_minor": 0
}

{
 "cells": [
  {
   "cell_type": "markdown",
   "metadata": {},
   "source": [
    "# Examining the effects of ownership on software quality\n",
    "Written by: Michel Kraaijeveld (mkraaijeveld, 4244311), Tom den Braber (tdenbraber, 4223780)\n",
    "\n",
    "## The Case Of Lucene\n",
    "\n",
    "We want to replicate the [study](http://dl.acm.org/citation.cfm?doid=2025113.2025119 \"Examining the effects of ownership on software quality\") done by Bird et al. and published in FSE'11. The idea is to see the results of a similar investigation on an OSS system. We select [Lucene](https://lucene.apache.org/core/), a search engine written in Java."
   ]
  },
  {
   "cell_type": "markdown",
   "metadata": {},
   "source": [
    "## Data collection\n",
    "\n",
    "First we need to get the data to create our **table**, in other words we do what is called *data collection*.\n",
    "\n",
    "In our case, we are interested in checking the relation between some ownership related metrics and post-release bugs. We investigating this relation at *file level*, because we focus on Java and in this language the building blocks are the classes, which most of the time correspond 1-to-1 to files.\n",
    "\n",
    "This means that our table will have one row per each source code file and as many columns as the metrics we want to compute for that file, plus one column with the number of post release bugs."
   ]
  },
  {
   "cell_type": "markdown",
   "metadata": {},
   "source": [
    "### Collecting git data\n",
    "\n",
    "For computing most of the metrics we want to investigate (e.g., how many people changed a file in its entire history) we need to know the history of files. We can do so by analyzing the *versioning system*. In our case, Lucene has a Subversion repository, but a [git mirror](https://github.com/apache/lucene-solr.git) is also available. We use the git repository as it allows to have the entire history locally, thus making the computations faster."
   ]
  },
  {
   "cell_type": "markdown",
   "metadata": {},
   "source": [
    "We clone the repository. For this we use the python library ```sh```. We use the ```json``` package to decode the issue files. Furthermore, the ```os``` library is used to retrieve all the issue files. The ```time``` package is used for calculating timestamps so that we can select the correct issues. Finally, the ```csv``` package is used to write the results to a ```.csv``` file."
   ]
  },
  {
   "cell_type": "code",
   "execution_count": null,
   "metadata": {
    "collapsed": true
   },
   "outputs": [],
   "source": [
    "import sh\n",
    "from json import JSONDecoder\n",
    "from os import listdir, path\n",
    "from time import strptime, mktime\n",
    "import csv"
   ]
  },
  {
   "cell_type": "markdown",
   "metadata": {},
   "source": [
    "We start by cloning the repository"
   ]
  },
  {
   "cell_type": "code",
   "execution_count": null,
   "metadata": {
    "collapsed": false
   },
   "outputs": [],
   "source": [
    "if not path.isdir(\"lucene-solr\"):\n",
    "    sh.git.clone(\"https://github.com/apache/lucene-solr.git\")"
   ]
  },
  {
   "cell_type": "markdown",
   "metadata": {},
   "source": [
    "We make sure that ```git``` is configured to use the correct working directory. In order to get rid of an annoying problem when git responses span multiple \"pages\", we use the ```--no-pager``` parameter"
   ]
  },
  {
   "cell_type": "code",
   "execution_count": null,
   "metadata": {
    "collapsed": true
   },
   "outputs": [],
   "source": [
    "git = sh.git.bake(\"--no-pager\", _cwd='lucene-solr')"
   ]
  },
  {
   "cell_type": "markdown",
   "metadata": {},
   "source": [
    "To perform the replication, we inspect the ```trunk``` in the versioning system and focus on a 6-month period in which we look at the bugs occurring to the files existing at that moment. Since we have bug data (see discussion later) until half of July 2015, we consider a time window from Jan 01, 2015 to Jul 01, 2015. Therefore the next step is to go through all bug reports and check whether they are between these two dates."
   ]
  },
  {
   "cell_type": "markdown",
   "metadata": {},
   "source": [
    "For this to work properly, we defined the following two functions to check for the right bugstatus and the correct time period:"
   ]
  },
  {
   "cell_type": "code",
   "execution_count": null,
   "metadata": {
    "collapsed": true
   },
   "outputs": [],
   "source": [
    "def isClosedResolved(issue):\n",
    "    return issue['fields']['status']['name'] == \"Closed\" and issue['fields']['resolution']['name'] == \"Fixed\"\n",
    "\n",
    "def isCorrectTimePeriod(issue):\n",
    "    t = mktime(strptime(issue['fields']['resolutiondate'], TIMEFORMAT))\n",
    "    return t >= START and t < END"
   ]
  },
  {
   "cell_type": "markdown",
   "metadata": {},
   "source": [
    "Which was then followed by the actual files being checked and saved in a list:"
   ]
  },
  {
   "cell_type": "code",
   "execution_count": null,
   "metadata": {
    "collapsed": false
   },
   "outputs": [],
   "source": [
    "# load all files\n",
    "decoder = JSONDecoder()\n",
    "PATH = \"issue_LUCENE\"\n",
    "TIMEFORMAT = \"%Y-%m-%dT%H:%M:%S.000+0000\"\n",
    "START = mktime(strptime(\"2015-01-01T00:00:00.000+0000\", TIMEFORMAT))\n",
    "END = mktime(strptime(\"2015-07-01T00:00:00.000+0000\", TIMEFORMAT))\n",
    "\n",
    "issues = []\n",
    "\n",
    "for f in listdir(PATH):\n",
    "    jsonF = open(PATH + \"/\" + f)\n",
    "    issue = decoder.decode(jsonF.read())\n",
    "    if isClosedResolved(issue) and isCorrectTimePeriod(issue):\n",
    "        issues.append(issue['key'])"
   ]
  },
  {
   "cell_type": "markdown",
   "metadata": {},
   "source": [
    "Now that we have the list of bugs in the defined period, it is time to create the actual table. The first thing we need to be able to do this, is to find the commit hash associated to a specific issues. Therefore we create a function that retrieves the hash based on the given bugfix number which has a format of ```LUCENE-####```: "
   ]
  },
  {
   "cell_type": "code",
   "execution_count": null,
   "metadata": {
    "collapsed": true
   },
   "outputs": [],
   "source": [
    "def linkBugFixNrToCommit(git, bugFixNr):\n",
    "    \"\"\"Given a bugfix nr (in the format: LUCENE-#NR#), this function returns the\n",
    "    commit hash of this bugfix\"\"\"\n",
    "    commits = git.log(\"--no-merges\", \"--pretty=%s//::://%H\", \"--grep\", bugFixNr + \":\").strip(\"\\n\").split(\"\\n\")\n",
    "    bugfixCommits = []\n",
    "    if len(commits) > 0 and commits[0] != \"\":\n",
    "        for commit in commits:\n",
    "            bugfixCommits.append(commit.split(\"//::://\")[1])\n",
    "    return bugfixCommits"
   ]
  },
  {
   "cell_type": "markdown",
   "metadata": {},
   "source": [
    "Now that we have one or more commits associated to a specific bug, we need to check which files were altered in these commits. We assume that all files that were changed had actually to do with the bugfix. We created version numbers for files based on the filename and the commit hash, which means that each file that is changed in a specific commit needs to be added to the table as having 1 bug for that version of the file. \n",
    "But, first things first, so lets find the files that were changed in the commits:"
   ]
  },
  {
   "cell_type": "code",
   "execution_count": null,
   "metadata": {
    "collapsed": true
   },
   "outputs": [],
   "source": [
    "def linkCommitToFiles(commitHash):\n",
    "    \"\"\"Given a commit hash (small version), this functions finds the files that\n",
    "    were changed in that specific commit\"\"\"\n",
    "    changedFiles = git('diff-tree', '--no-commit-id', '--name-only', '-r', commitHash)\n",
    "    changedFiles = changedFiles.split(\"\\n\")\n",
    "    #Remove all files that do not end in .java\n",
    "    filtered = [ f for f in changedFiles if f.endswith('.java') ]\n",
    "    return filtered"
   ]
  },
  {
   "cell_type": "markdown",
   "metadata": {},
   "source": [
    "The function above only returns files that end in '.java', since those are the ones we're interested in. Everything else, such as .txt files, are skipped."
   ]
  },
  {
   "cell_type": "markdown",
   "metadata": {},
   "source": [
    "At this point, we have access to the files that were changed. The next step is to calculate the metrics for each of these files, which includes:\n",
    "* minor: people that have contributed < 5% to the file\n",
    "* major: people that have contributed > 5% to the file\n",
    "* total: the total amount of minor and major contributers\n",
    "* ownership: the highest percentage a single person has contributed to the file\n",
    "* number of bugs: the number of bugs for the version of the file\n",
    "\n",
    "In order to do this correctly, we first need to know how much commits each of the found files had:"
   ]
  },
  {
   "cell_type": "code",
   "execution_count": null,
   "metadata": {
    "collapsed": true
   },
   "outputs": [],
   "source": [
    "def getListOfCommitsUptoCommit(git, commitHash, filePath): \n",
    "    \"\"\"Given a git repository, a commithash and a filePath, this function returns a list \n",
    "    of commits upto (but excluding) this commit for this file\"\"\"\n",
    "    # get commit hash in which this file was added\n",
    "    addedCommitHash = git.log(\"--pretty=%H\", \"--diff-filter\", \"A\", \"--\", filePath).split(\"\\n\")[0]\n",
    "    \n",
    "    # get a list of commits\n",
    "    commitRange = addedCommitHash + \"...\" + commitHash\n",
    "    commitList = git.rl(\"--pretty=%an\", \"--reverse\", commitRange, \n",
    "            \"--boundary\", \"--\", filePath).split(\"\\ncommit \")\n",
    "    \n",
    "    # the following piece of code does 3 things:\n",
    "    # 1.    it checks if the commit is a 'boundary commit': if yes, it is only accepted\n",
    "    #       if it is the 'addedCommitHash'\n",
    "    # 2.    it removes the last commit, as this is the commit that is not wanted\n",
    "    # 3.    it splits each hash\\nauthorname in hash and authorname and selects the author\n",
    "    if len(commitList) > 0 and commitList[0] != \"\":\n",
    "        commits = [item.strip(\"\\n\").split(\"\\n\")[1] for item in commitList \n",
    "        if ((item.find(\"-\") == -1 or item.find(addedCommitHash) != -1) \n",
    "            and item.find(commitHash) == -1)]\n",
    "    else:\n",
    "        commits = git.log(\"--pretty=%an\", \"-n\", 1, commitHash, \"--\", filePath)\n",
    "    return commits"
   ]
  },
  {
   "cell_type": "markdown",
   "metadata": {},
   "source": [
    "The above function retrieves all commits for a specific file using ```git rev-list```. Using the pretty-printing options, it will retrieve just the authorname. The result of this function is thus a list of authors for the given file. Note that an author appears in the list for every commit that (s)he made."
   ]
  },
  {
   "cell_type": "markdown",
   "metadata": {},
   "source": [
    "Next, we need to check how many different commit authors there are and how many commits each of the authors has:"
   ]
  },
  {
   "cell_type": "code",
   "execution_count": null,
   "metadata": {
    "collapsed": true
   },
   "outputs": [],
   "source": [
    "def getAuthorsForFile(authors):\n",
    "    \"\"\"Returns a dictionary with the authors as keys and the number of commits\n",
    "    per author as values\n",
    "    authors: a list of authors\"\"\"\n",
    "    contributors = dict()\n",
    "    for author in authors:\n",
    "        if author in contributors.keys():\n",
    "            contributors[author] += 1\n",
    "        else:\n",
    "            contributors[author] = 1\n",
    "    return (contributors, len(authors))"
   ]
  },
  {
   "cell_type": "markdown",
   "metadata": {},
   "source": [
    "This list of author/commit combinations can then be used to calculate our metrics on:"
   ]
  },
  {
   "cell_type": "code",
   "execution_count": null,
   "metadata": {
    "collapsed": true
   },
   "outputs": [],
   "source": [
    "def computeStatsOnFile(contribTuple):\n",
    "    \"Computes the following tuple: (#minor, #major, #total, %ownership)\"\n",
    "    (contrib, total) = contribTuple\n",
    "    maxPercentage = 0.0\n",
    "    minors = 0\n",
    "    majors = 0\n",
    "    for author, commits in contrib.items():\n",
    "        currentPercentage = commits/total\n",
    "        if currentPercentage > maxPercentage:\n",
    "            maxPercentage = currentPercentage\n",
    "        if currentPercentage < 0.05:\n",
    "            minors += 1\n",
    "        else:\n",
    "            majors += 1\n",
    "    \n",
    "    return (minors, majors, len(contrib.keys()), maxPercentage*100)"
   ]
  },
  {
   "cell_type": "markdown",
   "metadata": {},
   "source": [
    "This results in a tuple which contains the amount of minor contributers, amount of major contributers, total amount of contributers and the maximum ownership in percentage. Now that we calculated our metrics, the only thing left is to add it to the table. Therefore we first need to create a version of the file, which consists of the filename + the commithash:"
   ]
  },
  {
   "cell_type": "code",
   "execution_count": null,
   "metadata": {
    "collapsed": true
   },
   "outputs": [],
   "source": [
    "fileName = javaFile + \"_\" + commitHash"
   ]
  },
  {
   "cell_type": "markdown",
   "metadata": {},
   "source": [
    "Then we need to add this to our table and add a 1 to the number of bugs for this entry (which should result in at most 1 bug per file version):"
   ]
  },
  {
   "cell_type": "code",
   "execution_count": null,
   "metadata": {
    "collapsed": true
   },
   "outputs": [],
   "source": [
    "def addTupleToTable(filename, metrics, table, nrOfBugs):\n",
    "    \"\"\"Adds the given tuple to the table, based on the filename. If the \n",
    "    filename was already present, the amount of bugs is increased by 1\"\"\"\n",
    "    BUG_INDEX = 1;\n",
    "    if filename in table:\n",
    "        table[filename][BUG_INDEX] += nrOfBugs\n",
    "    else:\n",
    "        table[filename] = [metrics, nrOfBugs]\n",
    "\n",
    "    return table "
   ]
  },
  {
   "cell_type": "markdown",
   "metadata": {},
   "source": [
    "At this point we can create a table with entries for each of the files associated with bug reports, but we still need to add the files that have had 0 bugs. We decided to get all commits in the previously defined period:"
   ]
  },
  {
   "cell_type": "code",
   "execution_count": null,
   "metadata": {
    "collapsed": true
   },
   "outputs": [],
   "source": [
    "allCommitsInPeriod = git.log(\"--no-merges\", \"--pretty=%s:::%H\", '--since={2015-01-01}', '--until={2015-07-01}').strip(\"\\n\").split(\"\\n\")"
   ]
  },
  {
   "cell_type": "markdown",
   "metadata": {},
   "source": [
    "These commits also include the bugfixes, so we had to filter these out:"
   ]
  },
  {
   "cell_type": "code",
   "execution_count": null,
   "metadata": {
    "collapsed": true
   },
   "outputs": [],
   "source": [
    "def isBugFixCommit(commitMsg):\n",
    "    return commitMsg.find(\"LUCENE-\") != -1 or commitMsg.find(\"LUCENE_\") != -1"
   ]
  },
  {
   "cell_type": "markdown",
   "metadata": {},
   "source": [
    "For the commits that were not related to bugfixes, we wanted to see which files were changed as those did not include bugs. Therefore the files that are changed in these commits, need to be added to the table with '0' as the number of bugs in them. The reason we chose to only check the files that were committed in the period, is because it would otherwise be very hard to distinguish file version from having a bug or not. Whenever a file was changed x amount of times and there was a bug somewhere, it is very hard to see in which specific versions this bug was already present which could lead to wrongly assigning '0 bugs' to a file version.\n",
    "The way in which the files were added to the table is the same as for the bugfixes, as both are only about commit hashes."
   ]
  },
  {
   "cell_type": "markdown",
   "metadata": {},
   "source": [
    "When we combine all the functions we talked about earlier in this notebook, we can create the table (in csv format) as follows:"
   ]
  },
  {
   "cell_type": "code",
   "execution_count": null,
   "metadata": {
    "collapsed": false
   },
   "outputs": [],
   "source": [
    "results = {}\n",
    "\n",
    "for issue in issues:\n",
    "    commitHashes = linkBugFixNrToCommit(git, issue)\n",
    "    for commitHash in commitHashes:\n",
    "        for javaFile in linkCommitToFiles(commitHash):\n",
    "            commits = getListOfCommitsUptoCommit(git, commitHash, javaFile)\n",
    "            contribTuple = getAuthorsForFile(commits)\n",
    "            fileStats = computeStatsOnFile(contribTuple)\n",
    "            fileName = javaFile + \"_\" + commitHash\n",
    "            results = addTupleToTable(fileName, fileStats, results, 1)"
   ]
  },
  {
   "cell_type": "code",
   "execution_count": null,
   "metadata": {
    "collapsed": true
   },
   "outputs": [],
   "source": [
    "allCommitsInPeriod = git.log(\"--no-merges\", \"--pretty=%s//::://%H\", '--since={2015-01-01}', '--until={2015-07-01}').strip(\"\\n\").split(\"\\n\")\n",
    "for commit in allCommitsInPeriod:\n",
    "    print(commit)\n",
    "    (msg,commitHash) = commit.split(\"//::://\")\n",
    "    if not isBugFixCommit(msg):\n",
    "        for javaFile in linkCommitToFiles(commitHash):\n",
    "            commits = getListOfCommitsUptoCommit(git, commitHash, javaFile)\n",
    "            contribTuple = getAuthorsForFile(commits)\n",
    "            fileStats = computeStatsOnFile(contribTuple)\n",
    "            fileName = javaFile + \"_\" + commitHash\n",
    "            results = addTupleToTable(fileName, fileStats, results, 0)\n",
    "\n",
    "\n",
    "writeResultsToFile(results)"
   ]
  },
  {
   "cell_type": "markdown",
   "metadata": {},
   "source": [
    "### Discussion\n",
    "Several decisions had to be made in order to complete this assignment. This section contains a short explanation of those decisions.\n",
    "\n",
    "#### Period\n",
    "We decided to choose a 6-month period. However, although the assignment stated that all issues of the Lucene project until August, 2015, were collected, we found that the issues of August were missing and decided to use all issues starting from January 1st (2015) upto but not including July 1st (2015).\n",
    "\n",
    "#### Data collection\n",
    "When we found that a bug was fixed in our period, we computed the metrics for that file at one version earlier. We did not make a distinction between bugs that were introduced and fixed in our time period of interest, and bugs that were introduced before our period and fixed in our period.\n",
    "For all the other files that did not have bugs, we selected all commits that were done in our time period. For each commit, we computed all the metrics on the previous commit, as we do not know if a bug was introduced in the most recent commit. When a file had just one commit, the metrics were computed on this version."
   ]
  },
  {
   "cell_type": "markdown",
   "metadata": {},
   "source": [
    "### Results\n",
    "The results of the code above can be found in ```result-final-6-months.csv```. "
   ]
  }
 ],
 "metadata": {
  "kernelspec": {
   "display_name": "Python 2",
   "language": "python",
   "name": "python2"
  },
  "language_info": {
   "codemirror_mode": {
    "name": "ipython",
    "version": 2
   },
   "file_extension": ".py",
   "mimetype": "text/x-python",
   "name": "python",
   "nbconvert_exporter": "python",
   "pygments_lexer": "ipython2",
   "version": "2.7.6"
  }
 },
 "nbformat": 4,
 "nbformat_minor": 0
}
